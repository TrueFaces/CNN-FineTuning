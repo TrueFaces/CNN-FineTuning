{
 "cells": [
  {
   "cell_type": "markdown",
   "id": "2c7aa270-e392-4c83-a3cd-95d58045a508",
   "metadata": {},
   "source": [
    "\n",
    "# Neuronal Convolucional en cascada (Cascade CNN) para detectar si hay o no una cara"
   ]
  },
  {
   "cell_type": "code",
   "execution_count": null,
   "id": "47d4ca35-948e-43f1-bd2a-a1c864561266",
   "metadata": {},
   "outputs": [],
   "source": [
    "\n",
    "\n",
    "import tensorflow as tf\n",
    "import numpy as np\n",
    "\n",
    "\n",
    "# Queda definir el set de imagenes ,las etiquetas , los conjuntos de entrenamiento y validacion.A la \n",
    "# espera del analisis de manuel de cual dataset utilizar\n",
    "\n",
    "\n",
    "\n",
    "\n",
    "\n",
    "\n",
    "\n",
    "\n",
    "\n",
    "\n",
    "# Definir la arquitectura de la Red Neuronal Convolucional en cascada\n",
    "model = tf.keras.Sequential([\n",
    "    # Primera etapa de detección\n",
    "    tf.keras.layers.Conv2D(32, (3, 3), activation='relu', input_shape=(200, 200, 3)),\n",
    "    tf.keras.layers.MaxPooling2D((2, 2)),\n",
    "    # Segunda etapa de detección\n",
    "    tf.keras.layers.Conv2D(64, (3, 3), activation='relu'),\n",
    "    tf.keras.layers.MaxPooling2D((2, 2)),\n",
    "    # Tercera etapa de detección\n",
    "    tf.keras.layers.Conv2D(128, (3, 3), activation='relu'),\n",
    "    tf.keras.layers.MaxPooling2D((2, 2)),\n",
    "    # Cuarta etapa de detección\n",
    "    tf.keras.layers.Conv2D(256, (3, 3), activation='relu'),\n",
    "    tf.keras.layers.MaxPooling2D((2, 2)),\n",
    "    # Quinta etapa de detección\n",
    "    tf.keras.layers.Conv2D(512, (3, 3), activation='relu'),\n",
    "    tf.keras.layers.MaxPooling2D((2, 2)),\n",
    "    # Capa de salida\n",
    "    tf.keras.layers.Flatten(),\n",
    "    tf.keras.layers.Dense(1, activation='sigmoid')\n",
    "])\n",
    "\n",
    "# Compilar el modelo con el algoritmo de optimización 'Adam' y la función de pérdida 'binary_crossentropy'\n",
    "model.compile(optimizer='adam', loss='binary_crossentropy', metrics=['accuracy'])\n",
    "\n",
    "# Entrenar el modelo con los datos de entrenamiento\n",
    "model.fit(x_train, y_train, epochs=10, validation_data=(x_val, y_val))\n",
    "\n",
    "# Evaluar el modelo con los datos de prueba\n",
    "test_loss, test_acc = model.evaluate(x_test, y_test)\n",
    "\n",
    "# Utilizar el modelo para la detección de caras en una imagen de entrada\n",
    "img = cv2.imread('input_image.jpg')\n",
    "img_resized = cv2.resize(img, (200, 200))\n",
    "img_array = np.array([img_resized])\n",
    "prediction = model.predict(img_array)\n",
    "if prediction > 0.5:\n",
    "    print(\"Hay una cara en la imagen\")\n",
    "else:\n",
    "    print(\"No hay una cara en la imagen\")"
   ]
  },
  {
   "cell_type": "code",
   "execution_count": null,
   "id": "36d4490a-e6b1-4548-acde-3af48671c7ae",
   "metadata": {},
   "outputs": [],
   "source": []
  }
 ],
 "metadata": {
  "kernelspec": {
   "display_name": "Python 3 (ipykernel)",
   "language": "python",
   "name": "python3"
  },
  "language_info": {
   "codemirror_mode": {
    "name": "ipython",
    "version": 3
   },
   "file_extension": ".py",
   "mimetype": "text/x-python",
   "name": "python",
   "nbconvert_exporter": "python",
   "pygments_lexer": "ipython3",
   "version": "3.9.13"
  }
 },
 "nbformat": 4,
 "nbformat_minor": 5
}
