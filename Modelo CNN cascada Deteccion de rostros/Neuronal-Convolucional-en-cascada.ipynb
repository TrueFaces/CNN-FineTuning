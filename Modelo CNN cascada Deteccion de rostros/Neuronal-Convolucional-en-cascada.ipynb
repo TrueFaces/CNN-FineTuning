{
 "cells": [
  {
   "cell_type": "markdown",
   "id": "2c7aa270-e392-4c83-a3cd-95d58045a508",
   "metadata": {},
   "source": [
    "\n",
    "# Neuronal Convolucional en cascada (Cascade CNN) para detectar si hay o no una cara"
   ]
  },
  {
   "cell_type": "code",
   "execution_count": 4,
   "id": "47d4ca35-948e-43f1-bd2a-a1c864561266",
   "metadata": {
    "tags": []
   },
   "outputs": [],
   "source": [
    "#!pip install patlib\n",
    "#!pip install opencv-python2\n",
    "import numpy as np\n",
    "import pandas as pd\n",
    "import patlib\n",
    "import matplotlib.pyplot as plt\n",
    "from sklearn.model_selection import train_test_split\n",
    "import tensorflow as tf\n",
    "import os\n",
    "import keras\n",
    "from keras import layers, models\n",
    "from keras.models import Sequential\n",
    "from keras.layers import Dense,Conv2D,Dropout,Activation,MaxPooling2D,Flatten\n",
    "from tensorflow.keras.optimizers import RMSprop\n",
    "from tensorflow.keras.optimizers.legacy import Adam\n",
    "import cv2\n",
    "from tensorflow.keras.callbacks import EarlyStopping\n",
    "\n",
    "\n",
    "\n",
    "\n"
   ]
  },
  {
   "cell_type": "code",
   "execution_count": 5,
   "id": "8d0dd552-6550-4484-8157-04a17445d063",
   "metadata": {
    "tags": []
   },
   "outputs": [],
   "source": [
    "def etiquetar_imagenes(folder1, folder2, img_size=100, test_size=0.2):\n",
    "    data = []\n",
    "    labels = []\n",
    "\n",
    "    for category in os.listdir(folder1):\n",
    "        path = os.path.join(folder1, category)\n",
    "        if os.path.isdir(path):\n",
    "            for img_name in os.listdir(path):\n",
    "                img_path = os.path.join(path, img_name)\n",
    "                img = cv2.imread(img_path)\n",
    "                if img is not None:\n",
    "                    img = cv2.cvtColor(img, cv2.COLOR_BGR2GRAY)\n",
    "                    img = cv2.resize(img, (img_size, img_size))\n",
    "                    img = img.astype('float32') / 255.0  # Normalize the image\n",
    "                    data.append(img)\n",
    "                    labels.append(0)\n",
    "                else:\n",
    "                    print(f\"Failed to load image: {img_path}\")\n",
    "\n",
    "    for category in os.listdir(folder2):\n",
    "        path = os.path.join(folder2, category)\n",
    "        if os.path.isdir(path):\n",
    "            for img_name in os.listdir(path):\n",
    "                img_path = os.path.join(path, img_name)\n",
    "                img = cv2.imread(img_path)\n",
    "                if img is not None:\n",
    "                    img = cv2.cvtColor(img, cv2.COLOR_BGR2GRAY)\n",
    "                    img = cv2.resize(img, (img_size, img_size))\n",
    "                    img = img.astype('float32') / 255.0  # Normalize the image\n",
    "                    data.append(img)\n",
    "                    labels.append(1)\n",
    "                else:\n",
    "                    print(f\"Failed to load image: {img_path}\")\n",
    "\n",
    "    data = np.array(data).reshape(-1, img_size, img_size, 1)\n",
    "    labels = np.array(labels)\n",
    "\n",
    "    print(f\"Loaded {len(data)} images.\")\n",
    "    \n",
    "    # Split the data and labels into training and validation sets\n",
    "    X_train_val, X_test, y_train_val, y_test = train_test_split(data, labels, test_size=test_size, random_state=42)\n",
    "    X_train, X_val, y_train, y_val = train_test_split(X_train_val, y_train_val, test_size=test_size, random_state=42)\n",
    "\n",
    "    return X_test, y_test, X_train, y_train, X_val, y_val\n"
   ]
  },
  {
   "cell_type": "code",
   "execution_count": 6,
   "id": "1ed6ba68-cb02-4f0f-87b7-458596d22515",
   "metadata": {
    "tags": []
   },
   "outputs": [
    {
     "name": "stdout",
     "output_type": "stream",
     "text": [
      "Loaded 60344 images.\n"
     ]
    }
   ],
   "source": [
    "X_test, y_test, X_train, y_train, X_val, y_val=etiquetar_imagenes(r\".\\Datanoface\", r\".\\Dataface\")"
   ]
  },
  {
   "cell_type": "code",
   "execution_count": 7,
   "id": "cacba376-a26f-422d-8a4a-6f430d5831bf",
   "metadata": {
    "tags": []
   },
   "outputs": [
    {
     "name": "stdout",
     "output_type": "stream",
     "text": [
      "Epoch 1/15\n",
      "387/387 [==============================] - 197s 507ms/step - loss: 0.1650 - accuracy: 0.9314 - val_loss: 0.0629 - val_accuracy: 0.9761\n",
      "Epoch 2/15\n",
      "387/387 [==============================] - 197s 508ms/step - loss: 0.0243 - accuracy: 0.9919 - val_loss: 0.0290 - val_accuracy: 0.9898\n",
      "Epoch 3/15\n",
      "387/387 [==============================] - 196s 507ms/step - loss: 0.0150 - accuracy: 0.9955 - val_loss: 0.0084 - val_accuracy: 0.9974\n",
      "Epoch 4/15\n",
      "387/387 [==============================] - 196s 505ms/step - loss: 0.0079 - accuracy: 0.9975 - val_loss: 0.0113 - val_accuracy: 0.9970\n",
      "Epoch 5/15\n",
      "387/387 [==============================] - 195s 504ms/step - loss: 0.0082 - accuracy: 0.9973 - val_loss: 0.0057 - val_accuracy: 0.9981\n",
      "Epoch 6/15\n",
      "387/387 [==============================] - 196s 507ms/step - loss: 0.0050 - accuracy: 0.9986 - val_loss: 0.0084 - val_accuracy: 0.9978\n",
      "Epoch 7/15\n",
      "387/387 [==============================] - 195s 505ms/step - loss: 0.0046 - accuracy: 0.9984 - val_loss: 0.0218 - val_accuracy: 0.9943\n",
      "Epoch 8/15\n",
      "387/387 [==============================] - 195s 505ms/step - loss: 0.0033 - accuracy: 0.9991 - val_loss: 0.0073 - val_accuracy: 0.9983\n",
      "Epoch 9/15\n",
      "387/387 [==============================] - 195s 504ms/step - loss: 0.0023 - accuracy: 0.9992 - val_loss: 0.0088 - val_accuracy: 0.9981\n",
      "Epoch 10/15\n",
      "387/387 [==============================] - 195s 505ms/step - loss: 0.0028 - accuracy: 0.9991 - val_loss: 0.0094 - val_accuracy: 0.9982\n",
      "Epoch 11/15\n",
      "387/387 [==============================] - 196s 506ms/step - loss: 0.0047 - accuracy: 0.9985 - val_loss: 0.0111 - val_accuracy: 0.9974\n",
      "Epoch 12/15\n",
      "387/387 [==============================] - 195s 505ms/step - loss: 0.0012 - accuracy: 0.9997 - val_loss: 0.0078 - val_accuracy: 0.9983\n",
      "Epoch 13/15\n",
      "387/387 [==============================] - 196s 506ms/step - loss: 0.0036 - accuracy: 0.9989 - val_loss: 0.0076 - val_accuracy: 0.9983\n",
      "Epoch 14/15\n",
      "387/387 [==============================] - 196s 506ms/step - loss: 0.0019 - accuracy: 0.9994 - val_loss: 0.0091 - val_accuracy: 0.9981\n",
      "Epoch 15/15\n",
      "387/387 [==============================] - 196s 507ms/step - loss: 0.0025 - accuracy: 0.9992 - val_loss: 0.0249 - val_accuracy: 0.9956\n",
      "378/378 [==============================] - 13s 35ms/step - loss: 0.0280 - accuracy: 0.9948\n"
     ]
    }
   ],
   "source": [
    "\n",
    "# Definir la arquitectura de la Red Neuronal Convolucional en cascada\n",
    "model = tf.keras.Sequential([\n",
    "    # Primera etapa de detección\n",
    "    tf.keras.layers.Conv2D(32, (3, 3), activation='relu', input_shape=(100, 100, 1)),\n",
    "    tf.keras.layers.MaxPooling2D((2, 2)),\n",
    "    # Segunda etapa de detección\n",
    "    tf.keras.layers.Conv2D(64, (3, 3), activation='relu'),\n",
    "    tf.keras.layers.MaxPooling2D((2, 2)),\n",
    "    # Tercera etapa de detección\n",
    "    tf.keras.layers.Conv2D(128, (3, 3), activation='relu'),\n",
    "    tf.keras.layers.MaxPooling2D((2, 2)),\n",
    "    # Cuarta etapa de detección\n",
    "    tf.keras.layers.Conv2D(256, (3, 3), activation='relu'),\n",
    "    tf.keras.layers.MaxPooling2D((2, 2)),\n",
    "    # Quinta etapa de detección\n",
    "    tf.keras.layers.Conv2D(512, (3, 3), activation='relu'),\n",
    "    tf.keras.layers.MaxPooling2D((2, 2)),\n",
    "    # Capa de salida\n",
    "    tf.keras.layers.Flatten(),\n",
    "    tf.keras.layers.Dense(1, activation='sigmoid')\n",
    "])\n",
    "\n",
    "# Compilar el modelo con el algoritmo de optimización 'Adam' y la función de pérdida 'binary_crossentropy'\n",
    "\n",
    "model.compile(optimizer=tf.keras.optimizers.legacy.Adam(learning_rate=0.001, decay=1e-4), loss='binary_crossentropy', metrics=['accuracy'])\n",
    "\n",
    "early_stopping = EarlyStopping(monitor='val_loss', patience=5, verbose=1)\n",
    "# Entrenar el modelo con los datos de entrenamiento\n",
    "H=model.fit(X_train,y_train, epochs=15, validation_data=(X_val,y_val),batch_size=100) \n",
    "\n",
    "# Evaluar el modelo con los datos de prueba\n",
    "test_loss, test_acc = model.evaluate(X_test, y_test)\n",
    "\n"
   ]
  },
  {
   "cell_type": "code",
   "execution_count": 8,
   "id": "6d0f2283-308e-4df6-bacf-6029e929d5c1",
   "metadata": {
    "tags": []
   },
   "outputs": [
    {
     "name": "stdout",
     "output_type": "stream",
     "text": [
      "test loss 0.02797868475317955 test accuracy 0.9947800040245056\n"
     ]
    }
   ],
   "source": [
    "print('test loss',test_loss,'test accuracy',test_acc)"
   ]
  },
  {
   "cell_type": "code",
   "execution_count": 9,
   "id": "dc7ecb35-e19c-4dae-b3f1-6f563115584c",
   "metadata": {
    "tags": []
   },
   "outputs": [
    {
     "name": "stdout",
     "output_type": "stream",
     "text": [
      "[INFO]: Evaluando red neuronal...\n"
     ]
    },
    {
     "data": {
      "text/plain": [
       "<matplotlib.legend.Legend at 0x2623406b820>"
      ]
     },
     "execution_count": 9,
     "metadata": {},
     "output_type": "execute_result"
    },
    {
     "data": {
      "image/png": "[encoded data removed]",
      "text/plain": [
       "<Figure size 640x480 with 1 Axes>"
      ]
     },
     "metadata": {},
     "output_type": "display_data"
    }
   ],
   "source": [
    "\n",
    "# Evaluando el modelo:\n",
    "\n",
    "print(\"[INFO]: Evaluando red neuronal...\")\n",
    "#predictions = modeL.predict(X_test, batch_size=batch_size)  #(X)\n",
    "\n",
    "\n",
    "# Muestro gráfica de accuracy y losses\n",
    "plt.style.use(\"ggplot\")\n",
    "plt.figure()\n",
    "plt.plot(np.arange(0, 15), H.history[\"loss\"], label=\"train_loss\")\n",
    "plt.plot(np.arange(0, 15), H.history[\"val_loss\"], label=\"val_loss\")\n",
    "\n",
    "\n",
    "plt.title(\"Loss train and Validation\")\n",
    "plt.xlabel(\"Epocas\")\n",
    "plt.ylabel(\"Loss\")\n",
    "plt.legend()\n",
    "\n"
   ]
  },
  {
   "cell_type": "code",
   "execution_count": 12,
   "id": "b4b78744-58dd-45bf-9580-9cf272b67f29",
   "metadata": {
    "tags": []
   },
   "outputs": [],
   "source": [
    "model.save('modelo.h5')\n"
   ]
  },
  {
   "cell_type": "markdown",
   "id": "8c097a0f-ffde-467e-9518-07d988cbfbba",
   "metadata": {},
   "source": [
    "### Funcion de Prediccion"
   ]
  },
  {
   "cell_type": "code",
   "execution_count": 1,
   "id": "e9ea85d8-cffa-41ce-8c6f-013674ca4497",
   "metadata": {
    "tags": []
   },
   "outputs": [],
   "source": [
    "import tensorflow as tf\n",
    "from tensorflow import keras\n",
    "model = keras.models.load_model('modelo.h5')"
   ]
  },
  {
   "cell_type": "code",
   "execution_count": 2,
   "id": "a6a67b6e-837e-4464-95e2-0dcb318247e7",
   "metadata": {
    "tags": []
   },
   "outputs": [],
   "source": [
    "import cv2\n",
    "import numpy as np\n",
    "\n",
    "def detectar_cara(img_path, model):\n",
    "    # Cargar la imagen y preprocesarla\n",
    "    img = cv2.imread(img_path)\n",
    "    img = cv2.cvtColor(img, cv2.COLOR_BGR2GRAY)\n",
    "    img = cv2.resize(img, (100, 100))\n",
    "    img = img.astype('float32') / 255.0\n",
    "    img = np.expand_dims(img, axis=0)\n",
    "    img = np.expand_dims(img, axis=-1)\n",
    "\n",
    "    # Hacer la predicción\n",
    "    prediction = model.predict(img)\n",
    "\n",
    "    # Mostrar la predicción\n",
    "    if prediction[0][0] > 0.5:\n",
    "        print(\"La imagen es una cara.\")\n",
    "    else:\n",
    "        print(\"La imagen no es una cara.\")"
   ]
  },
  {
   "cell_type": "code",
   "execution_count": 3,
   "id": "dc5ca731-5f13-4a60-aa31-10d1424c187a",
   "metadata": {
    "tags": []
   },
   "outputs": [
    {
     "name": "stdout",
     "output_type": "stream",
     "text": [
      "1/1 [==============================] - 0s 248ms/step\n",
      "La imagen es una cara.\n"
     ]
    }
   ],
   "source": [
    "detectar_cara('FACE.jpg', model)"
   ]
  },
  {
   "cell_type": "code",
   "execution_count": 4,
   "id": "b6294f6e-e2fc-42c1-af38-1beae93deaf4",
   "metadata": {
    "tags": []
   },
   "outputs": [
    {
     "name": "stdout",
     "output_type": "stream",
     "text": [
      "1/1 [==============================] - 0s 28ms/step\n",
      "La imagen no es una cara.\n"
     ]
    }
   ],
   "source": [
    "detectar_cara('NOFACE.jpg', model)"
   ]
  },
  {
   "cell_type": "code",
   "execution_count": null,
   "id": "8377b099-60a2-4b19-9058-69cc5bf6d251",
   "metadata": {},
   "outputs": [],
   "source": []
  }
 ],
 "metadata": {
  "kernelspec": {
   "display_name": "Python 3 (ipykernel)",
   "language": "python",
   "name": "python3"
  },
  "language_info": {
   "codemirror_mode": {
    "name": "ipython",
    "version": 3
   },
   "file_extension": ".py",
   "mimetype": "text/x-python",
   "name": "python",
   "nbconvert_exporter": "python",
   "pygments_lexer": "ipython3",
   "version": "3.9.13"
  }
 },
 "nbformat": 4,
 "nbformat_minor": 5
}
